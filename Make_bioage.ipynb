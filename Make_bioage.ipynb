{
 "cells": [
  {
   "cell_type": "code",
   "execution_count": 92,
   "metadata": {},
   "outputs": [],
   "source": [
    "import pandas as pd\n",
    "import pickle\n",
    "import sys\n",
    "import matplotlib.pyplot as plt\n",
    "import itertools as it"
   ]
  },
  {
   "cell_type": "code",
   "execution_count": 10,
   "metadata": {},
   "outputs": [],
   "source": [
    "# Make index set"
   ]
  },
  {
   "cell_type": "code",
   "execution_count": 48,
   "metadata": {},
   "outputs": [],
   "source": [
    "infile2 = open(\"data/get_index\",'rb')\n",
    "sets = pickle.load(infile2)\n",
    "# sets = [ group_m_4_body, group_m_5_body, group_f_4_body, group_f_5_body]"
   ]
  },
  {
   "cell_type": "code",
   "execution_count": 49,
   "metadata": {},
   "outputs": [],
   "source": [
    "m4 = sets[0]; m5 = sets[1]; f4 = sets[2]; f5 = sets[3]\n",
    "male_index = list(m4.index) + list(m5.index)\n",
    "female_index = list(f4.index) + list(f5.index)"
   ]
  },
  {
   "cell_type": "code",
   "execution_count": 200,
   "metadata": {},
   "outputs": [],
   "source": [
    "infile = open('data/estimated_bioage', 'rb')\n",
    "bioage = pickle.load(infile)"
   ]
  },
  {
   "cell_type": "code",
   "execution_count": null,
   "metadata": {},
   "outputs": [],
   "source": []
  },
  {
   "cell_type": "code",
   "execution_count": 201,
   "metadata": {},
   "outputs": [],
   "source": [
    "bioage_m = bioage[0] ; bioage_f = bioage[1]"
   ]
  },
  {
   "cell_type": "code",
   "execution_count": 202,
   "metadata": {},
   "outputs": [],
   "source": [
    "# Step1. Find distribution of each age group"
   ]
  },
  {
   "cell_type": "code",
   "execution_count": 204,
   "metadata": {},
   "outputs": [],
   "source": [
    "ls_f4 = []\n",
    "for idx in list(f4.index):\n",
    "    age = bioage_f[idx]\n",
    "    ls_f4.append(age)\n",
    "    \n",
    "ls_f5 = []\n",
    "for idx in list(f5.index):\n",
    "    age = bioage_f[idx]\n",
    "    ls_f5.append(age)"
   ]
  },
  {
   "cell_type": "code",
   "execution_count": 208,
   "metadata": {},
   "outputs": [
    {
     "data": {
      "image/png": "[encoded data removed]",
      "text/plain": [
       "<Figure size 432x288 with 1 Axes>"
      ]
     },
     "metadata": {},
     "output_type": "display_data"
    }
   ],
   "source": [
    "n, bins, patches = plt.hist(ls_f4, bins=20,label=[\"M4_Bioage\", \"Count\"])\n",
    "n, bins, patches = plt.hist(ls_f5, bins=20)\n",
    "plt.show()"
   ]
  },
  {
   "cell_type": "code",
   "execution_count": 209,
   "metadata": {},
   "outputs": [
    {
     "data": {
      "image/png": "[encoded data removed]",
      "text/plain": [
       "<Figure size 432x288 with 1 Axes>"
      ]
     },
     "metadata": {},
     "output_type": "display_data"
    }
   ],
   "source": [
    "n, bins, patches = plt.hist(m4.CRAGE, bins=20,label=[\"M4_Bioage\", \"Count\"])\n",
    "n, bins, patches = plt.hist(m5.CRAGE, bins=20,label=[\"M4_Bioage\", \"Count\"])"
   ]
  },
  {
   "cell_type": "code",
   "execution_count": null,
   "metadata": {},
   "outputs": [],
   "source": []
  },
  {
   "cell_type": "code",
   "execution_count": 210,
   "metadata": {},
   "outputs": [],
   "source": [
    "infile2 = open('data/estimated_variable_bioage', 'rb')\n",
    "bioage_vars = pickle.load(infile2)"
   ]
  },
  {
   "cell_type": "code",
   "execution_count": 211,
   "metadata": {},
   "outputs": [
    {
     "ename": "IndexError",
     "evalue": "list index out of range",
     "output_type": "error",
     "traceback": [
      "\u001b[0;31m---------------------------------------------------------------------------\u001b[0m",
      "\u001b[0;31mIndexError\u001b[0m                                Traceback (most recent call last)",
      "\u001b[0;32m<ipython-input-211-3077e14df131>\u001b[0m in \u001b[0;36m<module>\u001b[0;34m()\u001b[0m\n\u001b[1;32m      5\u001b[0m \u001b[0mblood_f\u001b[0m \u001b[0;34m=\u001b[0m \u001b[0mf_vars\u001b[0m\u001b[0;34m[\u001b[0m\u001b[0;36m2\u001b[0m\u001b[0;34m]\u001b[0m\u001b[0;34m\u001b[0m\u001b[0m\n\u001b[1;32m      6\u001b[0m \u001b[0mres_f\u001b[0m \u001b[0;34m=\u001b[0m \u001b[0mf_vars\u001b[0m\u001b[0;34m[\u001b[0m\u001b[0;36m3\u001b[0m\u001b[0;34m]\u001b[0m\u001b[0;34m\u001b[0m\u001b[0m\n\u001b[0;32m----> 7\u001b[0;31m \u001b[0murine_f\u001b[0m \u001b[0;34m=\u001b[0m \u001b[0mf_vars\u001b[0m\u001b[0;34m[\u001b[0m\u001b[0;36m4\u001b[0m\u001b[0;34m]\u001b[0m\u001b[0;34m\u001b[0m\u001b[0m\n\u001b[0m",
      "\u001b[0;31mIndexError\u001b[0m: list index out of range"
     ]
    }
   ],
   "source": [
    "m_vars = bioage_vars[0]\n",
    "f_vars = bioage_vars[1]\n",
    "body_f = f_vars[0]\n",
    "lung_f = f_vars[1]\n",
    "blood_f = f_vars[2]\n",
    "res_f = f_vars[3]\n",
    "urine_f = f_vars[4]"
   ]
  },
  {
   "cell_type": "code",
   "execution_count": 212,
   "metadata": {},
   "outputs": [],
   "source": [
    "body_f4_list = []\n",
    "for idx in list(f4.index):\n",
    "    age = body_f[idx]\n",
    "    body_f4_list.append(age)\n",
    "    \n",
    "lung_f4_list = []\n",
    "for idx in list(f4.index):\n",
    "    age = lung_f[idx]\n",
    "    lung_f4_list.append(age)  \n",
    "    \n",
    "blood_f4_list = []\n",
    "for idx in list(f4.index):\n",
    "    age = blood_f[idx]\n",
    "    blood_f4_list.append(age)\n",
    "\n",
    "res_f4_list = []\n",
    "for idx in list(f4.index):\n",
    "    age = res_f[idx]\n",
    "    res_f4_list.append(age)\n",
    "    \n",
    "urine_f4_list = []\n",
    "for idx in list(f4.index):\n",
    "    age = urine_f[idx]\n",
    "    urine_f4_list.append(age)"
   ]
  },
  {
   "cell_type": "code",
   "execution_count": 213,
   "metadata": {},
   "outputs": [],
   "source": [
    "body_f5_list = []\n",
    "for idx in list(f5.index):\n",
    "    age = body_f[idx]\n",
    "    body_f5_list.append(age)\n",
    "    \n",
    "lung_f5_list = []\n",
    "for idx in list(f5.index):\n",
    "    age = lung_f[idx]\n",
    "    lung_f5_list.append(age)  \n",
    "    \n",
    "blood_f5_list = []\n",
    "for idx in list(f5.index):\n",
    "    age = blood_f[idx]\n",
    "    blood_f5_list.append(age)\n",
    "\n",
    "res_f5_list = []\n",
    "for idx in list(f5.index):\n",
    "    age = res_f[idx]\n",
    "    res_f5_list.append(age)\n",
    "    \n",
    "urine_f5_list = []\n",
    "for idx in list(f5.index):\n",
    "    age = urine_f[idx]\n",
    "    urine_f5_list.append(age)"
   ]
  },
  {
   "cell_type": "code",
   "execution_count": 214,
   "metadata": {},
   "outputs": [
    {
     "data": {
      "image/png": "[encoded data removed]",
      "text/plain": [
       "<Figure size 432x288 with 1 Axes>"
      ]
     },
     "metadata": {},
     "output_type": "display_data"
    }
   ],
   "source": [
    "n, bins, patches = plt.hist(body_f4_list, bins=20,label=[\"M4_Bioage\", \"Count\"])\n",
    "n, bins, patches = plt.hist(body_f5_list, bins=20,label=[\"M4_Bioage\", \"Count\"])\n",
    "plt.show()"
   ]
  },
  {
   "cell_type": "code",
   "execution_count": 215,
   "metadata": {},
   "outputs": [
    {
     "data": {
      "image/png": "[encoded data removed]",
      "text/plain": [
       "<Figure size 432x288 with 1 Axes>"
      ]
     },
     "metadata": {},
     "output_type": "display_data"
    }
   ],
   "source": [
    "n, bins, patches = plt.hist(lung_f4_list, bins=20,label=[\"M4_Bioage\", \"Count\"])\n",
    "n, bins, patches = plt.hist(lung_f5_list, bins=20,label=[\"M4_Bioage\", \"Count\"])\n",
    "plt.show()"
   ]
  },
  {
   "cell_type": "code",
   "execution_count": 216,
   "metadata": {},
   "outputs": [
    {
     "data": {
      "image/png": "[encoded data removed]",
      "text/plain": [
       "<Figure size 432x288 with 1 Axes>"
      ]
     },
     "metadata": {},
     "output_type": "display_data"
    }
   ],
   "source": [
    "n, bins, patches = plt.hist(blood_f4_list, bins=20,label=[\"M4_Bioage\", \"Count\"])\n",
    "n, bins, patches = plt.hist(blood_f5_list, bins=20,label=[\"M4_Bioage\", \"Count\"])\n",
    "plt.show()"
   ]
  },
  {
   "cell_type": "code",
   "execution_count": 217,
   "metadata": {},
   "outputs": [
    {
     "data": {
      "image/png": "[encoded data removed]",
      "text/plain": [
       "<Figure size 432x288 with 1 Axes>"
      ]
     },
     "metadata": {},
     "output_type": "display_data"
    }
   ],
   "source": [
    "n, bins, patches = plt.hist(res_f4_list, bins=20,label=[\"M4_Bioage\", \"Count\"])\n",
    "n, bins, patches = plt.hist(res_f5_list, bins=20,label=[\"M4_Bioage\", \"Count\"])\n",
    "plt.show()"
   ]
  },
  {
   "cell_type": "code",
   "execution_count": 218,
   "metadata": {},
   "outputs": [
    {
     "data": {
      "image/png": "[encoded data removed]",
      "text/plain": [
       "<Figure size 432x288 with 1 Axes>"
      ]
     },
     "metadata": {},
     "output_type": "display_data"
    }
   ],
   "source": [
    "n, bins, patches = plt.hist(urine_f4_list, bins=20,label=[\"M4_Bioage\", \"Count\"])\n",
    "n, bins, patches = plt.hist(urine_f5_list, bins=20,label=[\"M4_Bioage\", \"Count\"])\n",
    "plt.show()"
   ]
  },
  {
   "cell_type": "code",
   "execution_count": null,
   "metadata": {},
   "outputs": [],
   "source": []
  },
  {
   "cell_type": "code",
   "execution_count": null,
   "metadata": {},
   "outputs": [],
   "source": []
  }
 ],
 "metadata": {
  "kernelspec": {
   "display_name": "Python 3",
   "language": "python",
   "name": "python3"
  },
  "language_info": {
   "codemirror_mode": {
    "name": "ipython",
    "version": 3
   },
   "file_extension": ".py",
   "mimetype": "text/x-python",
   "name": "python",
   "nbconvert_exporter": "python",
   "pygments_lexer": "ipython3",
   "version": "3.6.5"
  }
 },
 "nbformat": 4,
 "nbformat_minor": 2
}
